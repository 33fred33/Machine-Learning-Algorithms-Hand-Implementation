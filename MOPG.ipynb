{
 "cells": [
  {
   "cell_type": "code",
   "execution_count": 1,
   "metadata": {},
   "outputs": [],
   "source": [
    "#Libraries\n",
    "import random as rd\n",
    "import math\n",
    "import numpy as np\n",
    "import operator\n",
    "import copy\n",
    "import matplotlib.pyplot as plt\n",
    "from sklearn.model_selection import train_test_split\n",
    "Logs = True"
   ]
  },
  {
   "cell_type": "code",
   "execution_count": 2,
   "metadata": {},
   "outputs": [],
   "source": [
    "#Function tools\n",
    "def feature_extractor(image, box_size = 6, stride = 6, ignore_borders = 2):\n",
    "    \"\"\"Receives a numpy matrix as image, returns mean and standard deviation for every squared box in a list\"\"\"\n",
    "    features = []\n",
    "    image = image[ ignore_borders : -ignore_borders , ignore_borders : -ignore_borders]\n",
    "    horizontal_jumps = int((image.shape[0] - box_size) / stride)\n",
    "    vertical_jumps = int((image.shape[1] - box_size) / stride)\n",
    "    for i in range(horizontal_jumps):\n",
    "        for j in range(vertical_jumps):\n",
    "            vertical_start = j * stride\n",
    "            horizontal_start = i * stride\n",
    "            box = image[ vertical_start : vertical_start + box_size , horizontal_start : horizontal_start + box_size]\n",
    "            features.append(np.mean(box))\n",
    "            features.append(np.std(box))\n",
    "    return np.array(features)\n",
    "    \n",
    "def safe_divide(a, b):\n",
    "    \"\"\"This function provides a 'safe' division for two numbers. If the denominator b\n",
    "    is 0, the function will return 0\"\"\"\n",
    "    if b == 0 :\n",
    "        return 0\n",
    "    else:\n",
    "        return a/b\n",
    "    \n",
    "def signed_if(a, b, c):\n",
    "    \"\"\"This function works as an if which interprets the first argument 'a' as False if negative\n",
    "    and returns 'b', else 'c'\"\"\"\n",
    "    if a < 0 :\n",
    "        return b\n",
    "    else:\n",
    "        return c"
   ]
  },
  {
   "cell_type": "code",
   "execution_count": 3,
   "metadata": {},
   "outputs": [],
   "source": [
    "class SymbollicTreeFunction:\n",
    "    def __init__(\n",
    "            self,\n",
    "            features,\n",
    "            evaluate_fitness_f,\n",
    "            max_initial_depth = 3):\n",
    "        \"\"\"\n",
    "        Arguments:\n",
    "            features: number of features the tree will expect\n",
    "            dimensions: sample dimensions or features amount\n",
    "            max_initial_depth: restricts depth of generated functions in their tree representation.\n",
    "        \"\"\"\n",
    "        self.features = features\n",
    "        self.evaluate_fitness_f = evaluate_fitness_f\n",
    "        self.max_initial_depth = max_initial_depth \n",
    "    \n",
    "    def generate_terminal(self):\n",
    "        \"\"\"features is the amount of features available for each sample, as an int\"\"\"\n",
    "        #global variable: dimensions\n",
    "        is_constant = False\n",
    "        value = rd.randint(0, self.features)\n",
    "        if value == self.features:\n",
    "            is_constant = True\n",
    "            value = np.random.uniform()\n",
    "        return value\n",
    "        \n",
    "    def _generate_individual(self, parent=None, depth=0): #OK\n",
    "        \"\"\"Generate an individual within the initial population.\"\"\"\n",
    "        if depth == self.max_initial_depth:\n",
    "            terminal = self.generate_terminal()\n",
    "            return Node(terminal, parent, None, None)\n",
    "        else:\n",
    "            node = Node(self._generate_operator(), parent, None, None)\n",
    "            node.left_child = self._generate_individual(parent=node, depth=depth+1)\n",
    "            node.right_child = self._generate_individual(parent=node, depth=depth+1)\n",
    "            return node\n",
    "    \n",
    "    def _generate_operator(self): #OK. To do: add if\n",
    "        \"\"\"Generate an operator. Operators can be '+','-','*' or '/'. This function is used for generating\n",
    "        individuals in the initial population (_generate_individual) and for generating new trees during the mutation process\n",
    "        (_mutate_tree).\"\"\"\n",
    "        return rd.choice([operator.add, operator.sub, operator.mul, safe_divide])\n",
    "    \n",
    "    def evaluate(self, population):\n",
    "        \"\"\"This function evaluates the fitness of one individual.\"\"\"\n",
    "        evaluations = self.evaluate_fitness_f(population)\n",
    "        return evaluations\n",
    "    \n",
    "    def _crossover(self, probabilities, amount):\n",
    "        \"\"\"Create a crossover randomly chosen individuals. Probabilities is a tuple of lists of the functions of the individuals and\n",
    "        their corresponding scaled fitness score. The variable 'amount' defines how many crossovers are created.\"\"\"\n",
    "        new_individuals = []\n",
    "        first_parents = self._sample_population(probabilities, amount)\n",
    "        second_parents = self._sample_population(probabilities, amount)\n",
    "        for first_parent, second_parent in zip(first_parents, second_parents):\n",
    "            new_individuals.append(self._crossover_trees(first_parent, second_parent))\n",
    "        return new_individuals\n",
    "    \n",
    "    def _mutate(self, probabilities, amount):\n",
    "        \"\"\"Mutate randomly chosen individuals. Probabilities is a tuple of lists of the functions of the individuals and\n",
    "        their corresponding scaled fitness score. The variable 'amount' defines how many crossovers are created.\"\"\"\n",
    "        new_individuals = []\n",
    "        parents = self._sample_population(probabilities, amount)\n",
    "        for parent in parents:\n",
    "            new_individuals.append(self._mutate_tree(parent))\n",
    "        return new_individuals\n",
    "    \n",
    "    def _sample_population(self, probabilities, amount):\n",
    "        \"\"\"Choose individuals randomly. Individuals with a lower fitness score (a lower error) are more likely to be \n",
    "        chosen. Probabilities is a tuple of lists of the functions of the individuals and their corresponding scaled \n",
    "        fitness score. The variable 'amount' defines how many crossovers are created.\"\"\"\n",
    "        population, weights = zip(*probabilities)\n",
    "        return rd.choices(population=population,weights=weights,k=amount)\n",
    "    \n",
    "    def _collect_nodes(self, root_node):\n",
    "        \"\"\"Function to get a list of the nodes in one tree. Used in _mutate_tree and _crossover_trees.\"\"\"\n",
    "        nodes = [root_node]\n",
    "        i = 0\n",
    "        while i < len(nodes):\n",
    "            if not nodes[i].is_terminal():\n",
    "                nodes.append(nodes[i].left_child)\n",
    "                nodes.append(nodes[i].right_child)\n",
    "            i += 1\n",
    "        return nodes\n",
    "    \n",
    "    def _mutate_tree(self, parent):\n",
    "        \"\"\"This function mutates one parent. A mutation point is chosen randomly among all nodes. The tree is mutated\n",
    "        at that point by changing the node at that mutation point.\"\"\"\n",
    "        # TO-DO #5 make mutation more advanced. Right now it is just changing a terminal to another terminal and\n",
    "        # an operator to another operator\n",
    "        new_tree = parent.copy()\n",
    "        nodes = self._collect_nodes(new_tree)\n",
    "        mutation_point = rd.choice(nodes)\n",
    "        if mutation_point.is_terminal():\n",
    "            mutation_point.content = self.generate_terminal()\n",
    "        else:\n",
    "            mutation_point.content = self._generate_operator()\n",
    "        return new_tree\n",
    "    \n",
    "    def mutate(self, parent):\n",
    "        \"\"\"This function mutates one parent. A mutation point is chosen randomly among all nodes. The tree is mutated\n",
    "        at that point by changing the node at that mutation point.\"\"\"\n",
    "        # TO-DO #5 make mutation more advanced. Right now it is just changing a terminal to another terminal and\n",
    "        # an operator to another operator\n",
    "        new_tree = parent.copy()\n",
    "        nodes = self._collect_nodes(new_tree)\n",
    "        mutation_point = rd.choice(nodes)\n",
    "        if mutation_point.is_terminal():\n",
    "            mutation_point.content = self.generate_terminal()\n",
    "        else:\n",
    "            mutation_point.content = self._generate_operator()\n",
    "        return new_tree\n",
    "    \n",
    "    def _crossover_trees(self, first_parent, second_parent):\n",
    "        \"\"\"This function creates a crossover of two given parent trees. It chooses the node, which will be overwritten,\n",
    "        in the first parent and the crossover section, the node of the first parent will be overwritten with, from the\n",
    "        second parent. It returns the new individual of that crossover.\"\"\"\n",
    "        second_nodes = self._collect_nodes(second_parent)\n",
    "        crossover_section = rd.choice(second_nodes).copy()\n",
    "        new_individual = first_parent.copy()\n",
    "        node_to_overwrite = rd.choice(self._collect_nodes(new_individual))\n",
    "        if node_to_overwrite.is_root():\n",
    "            return crossover_section\n",
    "        else:\n",
    "            parent = node_to_overwrite.parent\n",
    "            if parent.left_child == node_to_overwrite:\n",
    "                parent.left_child = crossover_section\n",
    "            else:\n",
    "                parent.right_child = crossover_section\n",
    "            return new_individual\n",
    "        \n",
    "    def crossover(self, first_parent, second_parent):\n",
    "        \"\"\"This function creates a crossover of two given parent trees. It chooses the node, which will be overwritten,\n",
    "        in the first parent and the crossover section, the node of the first parent will be overwritten with, from the\n",
    "        second parent. It returns the new individual of that crossover.\"\"\"\n",
    "        second_nodes = self._collect_nodes(second_parent)\n",
    "        crossover_section = rd.choice(second_nodes).copy()\n",
    "        new_individual = first_parent.copy()\n",
    "        node_to_overwrite = rd.choice(self._collect_nodes(new_individual))\n",
    "        if node_to_overwrite.is_root():\n",
    "            return crossover_section\n",
    "        else:\n",
    "            parent = node_to_overwrite.parent\n",
    "            if parent.left_child == node_to_overwrite:\n",
    "                parent.left_child = crossover_section\n",
    "            else:\n",
    "                parent.right_child = crossover_section\n",
    "            return new_individual\n",
    "    \n",
    "class Node:\n",
    "    def __init__(self, content, parent, left_child, right_child):\n",
    "        self.content = content\n",
    "        self.parent = parent\n",
    "        self.left_child = left_child\n",
    "        self.right_child = right_child\n",
    "        \n",
    "    def __str__(self):\n",
    "        if self.is_terminal():\n",
    "            return str(self.content)\n",
    "        else:\n",
    "            return \"(\" + self.content.__name__ + \" \" + str(self.left_child) + \" \" + str(self.right_child) + \")\"\n",
    "    \n",
    "    def is_terminal(self):\n",
    "        return self.left_child is None and self.right_child is None\n",
    "    \n",
    "    def is_root(self):\n",
    "        return self.parent is None\n",
    "    \n",
    "    def copy(self, parent=None):\n",
    "        the_copy = Node(self.content, parent, None, None)\n",
    "        if not self.is_terminal():\n",
    "            the_copy.left_child = self.left_child.copy(parent=the_copy)\n",
    "            the_copy.right_child = self.right_child.copy(parent=the_copy)\n",
    "        return the_copy"
   ]
  },
  {
   "cell_type": "code",
   "execution_count": 4,
   "metadata": {},
   "outputs": [],
   "source": [
    "class IndividualClass:\n",
    "    def __init__(self, fenotype, evaluation = None, selection_chances = None):\n",
    "        self.fenotype = fenotype\n",
    "        self.evaluation = evaluation\n",
    "        self.selection_chance = selection_chances\n",
    "    \n",
    "    def __str__(self):\n",
    "        return str(self.__dict__)\n",
    "\n",
    "class GeneticAlgorithm:\n",
    "    def __init__(\n",
    "            self,\n",
    "            population_size,\n",
    "            generations,\n",
    "            sampling_method=\"tournament\",\n",
    "            elite_ratio=0,\n",
    "            mutation_ratio=0.02,\n",
    "            sample_ratio=0,\n",
    "            tournament_size=2):\n",
    "        \"\"\"\n",
    "        Arguments:\n",
    "        population_size\n",
    "        generations\n",
    "        sampling_method: can be tournament / weighted_random / random\n",
    "        elite_ratio is the ratio of best population which will be kept as it is, and are also the parents for the next generation\n",
    "        mutation_ratio is the ratio of the next generation non-elite population to be filled with mutation-generated individuals\n",
    "        sample_ratio is the ratio of the next generation's non-elite population to be filled with sampled individuals\n",
    "        tournament_size only used if sampling method is tournament. Best out from randomly selected individuals will be selected for sampling\n",
    "        \"\"\"  \n",
    "        self.generations = generations\n",
    "        self.population_size = population_size\n",
    "        self.sampling_method = sampling_method\n",
    "        self.elite_ratio = elite_ratio\n",
    "        self.mutation_ratio = mutation_ratio\n",
    "        self.sample_ratio = sample_ratio\n",
    "        self.tournament_size = tournament_size\n",
    "        \n",
    "        \n",
    "    def __str__(self):\n",
    "        return str(self.__dict__)\n",
    "    \n",
    "    def _weighted_random_sample(self, parent_population, amounts):\n",
    "        \"returns weighted randomly selected individuals. if amount is a list, returns a list of lists\"\"\"\n",
    "        total_proportion = sum([1/individual.evaluation for individual in parent_population])\n",
    "        probabilities = []\n",
    "        sample = []\n",
    "        for individual in parent_population:\n",
    "            probability = 1/(individual.evaluation * total_proportion)\n",
    "            individual.selection_chance = probability\n",
    "            probabilities.append(probability)\n",
    "        for amount in amounts:\n",
    "            sample.append(rd.choices(parent_population, weights = probabilities, k = amount))\n",
    "        return sample\n",
    "    \n",
    "    def _tournament_selection(self, parent_population, amounts):\n",
    "        selection = []\n",
    "        for amount in amounts:\n",
    "            for i in range(amount):\n",
    "                competitors = rd.choices(parent_population, amount = self.tournament_size)\n",
    "                \n",
    "        return selection\n",
    "    \n",
    "    def fit(self, Model):\n",
    "        \"\"\"\n",
    "        Tries to minimize evaluation function in the model, returns the best individual\"\n",
    "        to do: include -- crossover_method can be \"pivot\" or \"annular\"\n",
    "        \"\"\"\n",
    "        self.Model = Model\n",
    "        population = [IndividualClass(Model._generate_individual()) for _ in range(self.population_size)]\n",
    "        \n",
    "        #amounts of each population type and procedence\n",
    "        archive_population_size = math.ceil(self.population_size * self.elite_ratio)\n",
    "        \n",
    "        offspring_population_size = self.population_size - archive_population_size\n",
    "        samples = math.ceil(offspring_population_size * self.sample_ratio)\n",
    "        mutations = math.ceil(offspring_population_size * self.mutation_ratio)\n",
    "        crossovers = offspring_population_size - samples - mutations\n",
    "        if Logs: \n",
    "            print(\"population_size\", self.population_size)\n",
    "            print(\"archive_population_size\", archive_population_size)\n",
    "            print(\"offspring_population_size\", offspring_population_size)\n",
    "            print(\"samples\", samples)\n",
    "            print(\"mutations\", mutations)\n",
    "            print(\"crossovers\", crossovers)\n",
    "            \n",
    "        for generation in range(self.generations):\n",
    "            if Logs: print(\"generation:\", generation)\n",
    "            \n",
    "            #evaluation of every individual\n",
    "            individuals_fitness = Model.evaluate([individual.fenotype for individual in population])\n",
    "            for i,individual in enumerate(population):\n",
    "                individual.evaluation = individuals_fitness[i]\n",
    "                \n",
    "            #Parents selection\n",
    "            population = sorted(population, key = lambda x: x.evaluation)\n",
    "            archive_population = population[:archive_population_size]\n",
    "            parent_population = archive_population       \n",
    "            if self.sampling_method == \"weighted_random\":\n",
    "                individual_selections = self._weighted_random_sample(parent_population, [crossovers, crossovers, samples, mutations])\n",
    "            elif self.sampling_method == \"tournament\":\n",
    "                individual_selections = self._tournament_selection(parent_population, [crossovers, crossovers, samples, mutations])\n",
    "            first_parents = individual_selections[0]\n",
    "            second_parents = individual_selections[1]\n",
    "            \n",
    "            #new population\n",
    "            new_population = archive_population\n",
    "            new_population.extend(individual_selections[2])\n",
    "            new_population.extend([IndividualClass(Model.mutate(individual.fenotype)) for individual in individual_selections[3]])\n",
    "            new_population.extend([IndividualClass(Model.crossover(first_parents[i].fenotype, second_parents[i].fenotype)) for i in range(crossovers)])\n",
    "            population = [i for i in new_population]\n",
    "        \n",
    "        \n",
    "        return darwin_champion.fenotype, darwin_champion.evaluation    "
   ]
  },
  {
   "cell_type": "code",
   "execution_count": 38,
   "metadata": {},
   "outputs": [],
   "source": [
    "class ImageClassificationWithMOGP:\n",
    "    def __init__(self, x_train, x_test, y_train, y_test, goal_classes = None):\n",
    "        self.x_train = x_train\n",
    "        self.y_train = y_train\n",
    "        self.x_test = x_test\n",
    "        self.y_test = y_test\n",
    "        if goal_classes is None:\n",
    "            self.goal_classes = []\n",
    "        else:\n",
    "            self.goal_classes = goal_classes\n",
    "        self.objectives_size = len(self.goal_classes)\n",
    "        self.dimensions = len(x_train[0])\n",
    "        self.test_mode(False)\n",
    "        \n",
    "    def test_mode(self, activated = True):\n",
    "        if activated:\n",
    "            self.x = self.x_test\n",
    "            self.y = self.y_test\n",
    "        else:\n",
    "            self.x = self.x_train\n",
    "            self.y = self.y_train\n",
    "        self.data_size = len(self.x)\n",
    "    \n",
    "    def evaluate_tree_class_accuracy(self, node, goal_class = 0):\n",
    "        y_evaluation = [1 if self.evaluate_tree_image(i, node) < 0 else 0 for i in range(self.data_size)]\n",
    "        corrects = sum([1 if y_evaluation[i] == self.y[i] and self.y[i] == goal_class else 0 for i in range(self.data_size)])\n",
    "        total = sum([1 if self.y[i] == goal_class else 0 for i in range(self.data_size)])\n",
    "        accuracy = corrects / total\n",
    "\n",
    "        return accuracy   \n",
    "\n",
    "    def crowding_distance(self, objective_values):\n",
    "        objective_values = np.array(objective_values)\n",
    "        crowd = len(objective_values[0])\n",
    "        indexes = [i for i in range(crowd)]\n",
    "        for objective_index in range(self.objectives_size):\n",
    "            temp_zip = np.array(zip(objective_values[objective_index], indexes))\n",
    "            print(temp_zip[0])\n",
    "            sorted_temp_zip = sorted(temp_zip, key = lambda x: x[1])\n",
    "            print(objective_index, sorted_temp_zip[:,1])\n",
    "             \n",
    "        return crowding_distances\n",
    "\n",
    "    def evaluate_fitness_SPEA2(self, nodes):\n",
    "        #initial calculations\n",
    "        population_size = len(nodes)\n",
    "\n",
    "        #variable initialisation\n",
    "        evaluations = []\n",
    "        objective_values = []\n",
    "        strenghts = []\n",
    "\n",
    "        #accuracies calculations\n",
    "        for objective_index in range(self.objectives_size):\n",
    "            values = []\n",
    "            for node in nodes:\n",
    "                values.append(self.evaluate_tree_class_accuracy(node, self.goal_classes[objective_index])) #needs adaptation\n",
    "            objective_values.append(values)\n",
    "            \n",
    "        #strenghts calculation\n",
    "        for evaluated_individual_index in range(population_size):\n",
    "            dominated_solutions = 0\n",
    "            for comparison_individual_index in range(population_size):\n",
    "                dominated = True\n",
    "                for objective_index in range(self.objectives_size):\n",
    "                    if objective_values[objective_index][evaluated_individual_index] < objective_values[objective_index][comparison_individual_index]:\n",
    "                        dominated = False\n",
    "                        break\n",
    "                if dominated:\n",
    "                    dominated_solutions += 1   \n",
    "            strenghts.append(dominated_solutions)\n",
    "        #if Logs: colored_plot(positive_accuracies, negative_accuracies, strenghts, title = \"strenghts\", colormap = \"cool\")\n",
    "\n",
    "        #fitness   \n",
    "        for evaluated_individual_index in range(population_size):\n",
    "            total_strenghts = 0\n",
    "            for comparison_individual_index in range(population_size):\n",
    "                dominates_me = True\n",
    "                for objective_index in range(self.objectives_size):\n",
    "                    if objective_values[objective_index][evaluated_individual_index] >= objective_values[objective_index][comparison_individual_index]:\n",
    "                        dominates_me = False\n",
    "                        break\n",
    "                if dominates_me:\n",
    "                    total_strenghts += strenghts[comparison_individual_index]   \n",
    "            evaluations.append(total_strenghts + 1)\n",
    "        \n",
    "        #self.crowding_distance(objective_values)\n",
    "        #print(\"Evaluations:\", len(evaluations))\n",
    "        if Logs: \n",
    "            self.colored_plot(objective_values[0], objective_values[1], evaluations, title = \"SPEA2\", colormap = \"cool\") #hardcoded for 2 objectives\n",
    "        return evaluations\n",
    "\n",
    "\n",
    "    def evaluate_tree_image(self, sample_index, node): #node is the root node of the tree\n",
    "        \"\"\"Evaluates the value of one node in a tree. It calls itself to move through the whole tree.\"\"\"\n",
    "        if not node.is_terminal():\n",
    "            return node.content(\n",
    "                self.evaluate_tree_image(sample_index, node.left_child),\n",
    "                self.evaluate_tree_image(sample_index, node.right_child))\n",
    "        elif isinstance(node.content, int):\n",
    "            return self.x[sample_index][node.content]\n",
    "        else:\n",
    "            return node.content\n",
    "        \n",
    "    def colored_plot(self, x, y, values, title = \"\", colormap = \"cool\"):\n",
    "        \"\"\"points are x, y pairs, values are used for graduated coloring\"\"\"\n",
    "        max_value = max(values)\n",
    "        min_value = min(values)\n",
    "        colors = [1 - (value - min_value) / (max_value - min_value) for value in values]\n",
    "        plt.scatter(x, y, c = colors, cmap = colormap, alpha = 0.6)\n",
    "        plt.title(title)\n",
    "        plt.grid()\n",
    "        plt.show()\n"
   ]
  },
  {
   "cell_type": "code",
   "execution_count": 40,
   "metadata": {},
   "outputs": [],
   "source": [
    "#Data extraction\n",
    "from sklearn.datasets import fetch_openml\n",
    "X, y = fetch_openml('mnist_784', version=1, return_X_y=True)\n",
    "X = np.array([image.reshape((28,28)) for image in X])\n",
    "y = np.array(y)"
   ]
  },
  {
   "cell_type": "code",
   "execution_count": 41,
   "metadata": {},
   "outputs": [
    {
     "name": "stdout",
     "output_type": "stream",
     "text": [
      "56000\n"
     ]
    }
   ],
   "source": [
    "#Data pre-processing\n",
    "X_features = [feature_extractor(x) for x in X]\n",
    "max_feature = max([max(x) for x in X_features])\n",
    "X_normalised_features = [x / max_feature for x in X_features]\n",
    "y_temp = [1 if label == \"2\" else 0 for label in y] #hardcoded to class 2\n",
    "\n",
    "x_train, x_test, y_train, y_test = train_test_split(X_normalised_features, y_temp, test_size = 0.8)\n",
    "print(len(y_test))"
   ]
  },
  {
   "cell_type": "code",
   "execution_count": 42,
   "metadata": {},
   "outputs": [],
   "source": [
    "#Elaboration\n",
    "Problem = ImageClassificationWithMOGP(x_train, x_test, y_train, y_test, [1,0])\n",
    "\n",
    "Model = SymbollicTreeFunction(\n",
    "    features = Problem.dimensions,\n",
    "    evaluate_fitness_f = Problem.evaluate_fitness_SPEA2,\n",
    "    max_initial_depth = 3,\n",
    "    )\n",
    "\n",
    "MOGP = GeneticAlgorithm(\n",
    "    population_size = 100, \n",
    "    generations = 30, \n",
    "    sampling_method = \"weighted_random\", \n",
    "    mutation_ratio = 0.4, \n",
    "    elite_ratio = 0.4)\n"
   ]
  },
  {
   "cell_type": "code",
   "execution_count": 43,
   "metadata": {},
   "outputs": [
    {
     "name": "stdout",
     "output_type": "stream",
     "text": [
      "population_size 100\n",
      "archive_population_size 40\n",
      "offspring_population_size 60\n",
      "samples 0\n",
      "mutations 24\n",
      "crossovers 36\n",
      "generation: 0\n"
     ]
    },
    {
     "data": {
      "image/png": "[encoded data removed]",
      "text/plain": [
       "<Figure size 432x288 with 1 Axes>"
      ]
     },
     "metadata": {
      "needs_background": "light"
     },
     "output_type": "display_data"
    },
    {
     "name": "stdout",
     "output_type": "stream",
     "text": [
      "generation: 1\n"
     ]
    },
    {
     "data": {
      "image/png": "[encoded data removed]",
      "text/plain": [
       "<Figure size 432x288 with 1 Axes>"
      ]
     },
     "metadata": {
      "needs_background": "light"
     },
     "output_type": "display_data"
    },
    {
     "name": "stdout",
     "output_type": "stream",
     "text": [
      "generation: 2\n"
     ]
    },
    {
     "data": {
      "image/png": "[encoded data removed]",
      "text/plain": [
       "<Figure size 432x288 with 1 Axes>"
      ]
     },
     "metadata": {
      "needs_background": "light"
     },
     "output_type": "display_data"
    },
    {
     "name": "stdout",
     "output_type": "stream",
     "text": [
      "generation: 3\n"
     ]
    },
    {
     "data": {
      "image/png": "[encoded data removed]",
      "text/plain": [
       "<Figure size 432x288 with 1 Axes>"
      ]
     },
     "metadata": {
      "needs_background": "light"
     },
     "output_type": "display_data"
    },
    {
     "name": "stdout",
     "output_type": "stream",
     "text": [
      "generation: 4\n"
     ]
    },
    {
     "data": {
      "image/png": "[encoded data removed]",
      "text/plain": [
       "<Figure size 432x288 with 1 Axes>"
      ]
     },
     "metadata": {
      "needs_background": "light"
     },
     "output_type": "display_data"
    },
    {
     "name": "stdout",
     "output_type": "stream",
     "text": [
      "generation: 5\n"
     ]
    },
    {
     "data": {
      "image/png": "[encoded data removed]",
      "text/plain": [
       "<Figure size 432x288 with 1 Axes>"
      ]
     },
     "metadata": {
      "needs_background": "light"
     },
     "output_type": "display_data"
    },
    {
     "name": "stdout",
     "output_type": "stream",
     "text": [
      "generation: 6\n"
     ]
    },
    {
     "data": {
      "image/png": "[encoded data removed]",
      "text/plain": [
       "<Figure size 432x288 with 1 Axes>"
      ]
     },
     "metadata": {
      "needs_background": "light"
     },
     "output_type": "display_data"
    },
    {
     "name": "stdout",
     "output_type": "stream",
     "text": [
      "generation: 7\n"
     ]
    },
    {
     "data": {
      "image/png": "[encoded data removed]",
      "text/plain": [
       "<Figure size 432x288 with 1 Axes>"
      ]
     },
     "metadata": {
      "needs_background": "light"
     },
     "output_type": "display_data"
    },
    {
     "name": "stdout",
     "output_type": "stream",
     "text": [
      "generation: 8\n"
     ]
    },
    {
     "data": {
      "image/png": "[encoded data removed]",
      "text/plain": [
       "<Figure size 432x288 with 1 Axes>"
      ]
     },
     "metadata": {
      "needs_background": "light"
     },
     "output_type": "display_data"
    },
    {
     "name": "stdout",
     "output_type": "stream",
     "text": [
      "generation: 9\n"
     ]
    },
    {
     "data": {
      "image/png": "[encoded data removed]",
      "text/plain": [
       "<Figure size 432x288 with 1 Axes>"
      ]
     },
     "metadata": {
      "needs_background": "light"
     },
     "output_type": "display_data"
    },
    {
     "name": "stdout",
     "output_type": "stream",
     "text": [
      "generation: 10\n"
     ]
    },
    {
     "ename": "KeyboardInterrupt",
     "evalue": "",
     "output_type": "error",
     "traceback": [
      "\u001b[0;31m---------------------------------------------------------------------------\u001b[0m",
      "\u001b[0;31mKeyboardInterrupt\u001b[0m                         Traceback (most recent call last)",
      "\u001b[0;32m<ipython-input-43-efbdfcf2a003>\u001b[0m in \u001b[0;36m<module>\u001b[0;34m\u001b[0m\n\u001b[1;32m      1\u001b[0m \u001b[0;31m#GP execution\u001b[0m\u001b[0;34m\u001b[0m\u001b[0;34m\u001b[0m\u001b[0;34m\u001b[0m\u001b[0m\n\u001b[0;32m----> 2\u001b[0;31m \u001b[0mdc\u001b[0m\u001b[0;34m,\u001b[0m\u001b[0mcs\u001b[0m \u001b[0;34m=\u001b[0m \u001b[0mMOGP\u001b[0m\u001b[0;34m.\u001b[0m\u001b[0mfit\u001b[0m\u001b[0;34m(\u001b[0m\u001b[0mModel\u001b[0m\u001b[0;34m)\u001b[0m\u001b[0;34m\u001b[0m\u001b[0;34m\u001b[0m\u001b[0m\n\u001b[0m",
      "\u001b[0;32m<ipython-input-4-557cdb84ce67>\u001b[0m in \u001b[0;36mfit\u001b[0;34m(self, Model)\u001b[0m\n\u001b[1;32m     88\u001b[0m \u001b[0;34m\u001b[0m\u001b[0m\n\u001b[1;32m     89\u001b[0m             \u001b[0;31m#evaluation of every individual\u001b[0m\u001b[0;34m\u001b[0m\u001b[0;34m\u001b[0m\u001b[0;34m\u001b[0m\u001b[0m\n\u001b[0;32m---> 90\u001b[0;31m             \u001b[0mindividuals_fitness\u001b[0m \u001b[0;34m=\u001b[0m \u001b[0mModel\u001b[0m\u001b[0;34m.\u001b[0m\u001b[0mevaluate\u001b[0m\u001b[0;34m(\u001b[0m\u001b[0;34m[\u001b[0m\u001b[0mindividual\u001b[0m\u001b[0;34m.\u001b[0m\u001b[0mfenotype\u001b[0m \u001b[0;32mfor\u001b[0m \u001b[0mindividual\u001b[0m \u001b[0;32min\u001b[0m \u001b[0mpopulation\u001b[0m\u001b[0;34m]\u001b[0m\u001b[0;34m)\u001b[0m\u001b[0;34m\u001b[0m\u001b[0;34m\u001b[0m\u001b[0m\n\u001b[0m\u001b[1;32m     91\u001b[0m             \u001b[0;32mfor\u001b[0m \u001b[0mi\u001b[0m\u001b[0;34m,\u001b[0m\u001b[0mindividual\u001b[0m \u001b[0;32min\u001b[0m \u001b[0menumerate\u001b[0m\u001b[0;34m(\u001b[0m\u001b[0mpopulation\u001b[0m\u001b[0;34m)\u001b[0m\u001b[0;34m:\u001b[0m\u001b[0;34m\u001b[0m\u001b[0;34m\u001b[0m\u001b[0m\n\u001b[1;32m     92\u001b[0m                 \u001b[0mindividual\u001b[0m\u001b[0;34m.\u001b[0m\u001b[0mevaluation\u001b[0m \u001b[0;34m=\u001b[0m \u001b[0mindividuals_fitness\u001b[0m\u001b[0;34m[\u001b[0m\u001b[0mi\u001b[0m\u001b[0;34m]\u001b[0m\u001b[0;34m\u001b[0m\u001b[0;34m\u001b[0m\u001b[0m\n",
      "\u001b[0;32m<ipython-input-3-b8e2c10ce4ba>\u001b[0m in \u001b[0;36mevaluate\u001b[0;34m(self, population)\u001b[0m\n\u001b[1;32m     44\u001b[0m     \u001b[0;32mdef\u001b[0m \u001b[0mevaluate\u001b[0m\u001b[0;34m(\u001b[0m\u001b[0mself\u001b[0m\u001b[0;34m,\u001b[0m \u001b[0mpopulation\u001b[0m\u001b[0;34m)\u001b[0m\u001b[0;34m:\u001b[0m\u001b[0;34m\u001b[0m\u001b[0;34m\u001b[0m\u001b[0m\n\u001b[1;32m     45\u001b[0m         \u001b[0;34m\"\"\"This function evaluates the fitness of one individual.\"\"\"\u001b[0m\u001b[0;34m\u001b[0m\u001b[0;34m\u001b[0m\u001b[0m\n\u001b[0;32m---> 46\u001b[0;31m         \u001b[0mevaluations\u001b[0m \u001b[0;34m=\u001b[0m \u001b[0mself\u001b[0m\u001b[0;34m.\u001b[0m\u001b[0mevaluate_fitness_f\u001b[0m\u001b[0;34m(\u001b[0m\u001b[0mpopulation\u001b[0m\u001b[0;34m)\u001b[0m\u001b[0;34m\u001b[0m\u001b[0;34m\u001b[0m\u001b[0m\n\u001b[0m\u001b[1;32m     47\u001b[0m         \u001b[0;32mreturn\u001b[0m \u001b[0mevaluations\u001b[0m\u001b[0;34m\u001b[0m\u001b[0;34m\u001b[0m\u001b[0m\n\u001b[1;32m     48\u001b[0m \u001b[0;34m\u001b[0m\u001b[0m\n",
      "\u001b[0;32m<ipython-input-38-444d46f8409c>\u001b[0m in \u001b[0;36mevaluate_fitness_SPEA2\u001b[0;34m(self, nodes)\u001b[0m\n\u001b[1;32m     55\u001b[0m             \u001b[0mvalues\u001b[0m \u001b[0;34m=\u001b[0m \u001b[0;34m[\u001b[0m\u001b[0;34m]\u001b[0m\u001b[0;34m\u001b[0m\u001b[0;34m\u001b[0m\u001b[0m\n\u001b[1;32m     56\u001b[0m             \u001b[0;32mfor\u001b[0m \u001b[0mnode\u001b[0m \u001b[0;32min\u001b[0m \u001b[0mnodes\u001b[0m\u001b[0;34m:\u001b[0m\u001b[0;34m\u001b[0m\u001b[0;34m\u001b[0m\u001b[0m\n\u001b[0;32m---> 57\u001b[0;31m                 \u001b[0mvalues\u001b[0m\u001b[0;34m.\u001b[0m\u001b[0mappend\u001b[0m\u001b[0;34m(\u001b[0m\u001b[0mself\u001b[0m\u001b[0;34m.\u001b[0m\u001b[0mevaluate_tree_class_accuracy\u001b[0m\u001b[0;34m(\u001b[0m\u001b[0mnode\u001b[0m\u001b[0;34m,\u001b[0m \u001b[0mself\u001b[0m\u001b[0;34m.\u001b[0m\u001b[0mgoal_classes\u001b[0m\u001b[0;34m[\u001b[0m\u001b[0mobjective_index\u001b[0m\u001b[0;34m]\u001b[0m\u001b[0;34m)\u001b[0m\u001b[0;34m)\u001b[0m \u001b[0;31m#needs adaptation\u001b[0m\u001b[0;34m\u001b[0m\u001b[0;34m\u001b[0m\u001b[0m\n\u001b[0m\u001b[1;32m     58\u001b[0m             \u001b[0mobjective_values\u001b[0m\u001b[0;34m.\u001b[0m\u001b[0mappend\u001b[0m\u001b[0;34m(\u001b[0m\u001b[0mvalues\u001b[0m\u001b[0;34m)\u001b[0m\u001b[0;34m\u001b[0m\u001b[0;34m\u001b[0m\u001b[0m\n\u001b[1;32m     59\u001b[0m \u001b[0;34m\u001b[0m\u001b[0m\n",
      "\u001b[0;32m<ipython-input-38-444d46f8409c>\u001b[0m in \u001b[0;36mevaluate_tree_class_accuracy\u001b[0;34m(self, node, goal_class)\u001b[0m\n\u001b[1;32m     23\u001b[0m \u001b[0;34m\u001b[0m\u001b[0m\n\u001b[1;32m     24\u001b[0m     \u001b[0;32mdef\u001b[0m \u001b[0mevaluate_tree_class_accuracy\u001b[0m\u001b[0;34m(\u001b[0m\u001b[0mself\u001b[0m\u001b[0;34m,\u001b[0m \u001b[0mnode\u001b[0m\u001b[0;34m,\u001b[0m \u001b[0mgoal_class\u001b[0m \u001b[0;34m=\u001b[0m \u001b[0;36m0\u001b[0m\u001b[0;34m)\u001b[0m\u001b[0;34m:\u001b[0m\u001b[0;34m\u001b[0m\u001b[0;34m\u001b[0m\u001b[0m\n\u001b[0;32m---> 25\u001b[0;31m         \u001b[0my_evaluation\u001b[0m \u001b[0;34m=\u001b[0m \u001b[0;34m[\u001b[0m\u001b[0;36m1\u001b[0m \u001b[0;32mif\u001b[0m \u001b[0mself\u001b[0m\u001b[0;34m.\u001b[0m\u001b[0mevaluate_tree_image\u001b[0m\u001b[0;34m(\u001b[0m\u001b[0mi\u001b[0m\u001b[0;34m,\u001b[0m \u001b[0mnode\u001b[0m\u001b[0;34m)\u001b[0m \u001b[0;34m<\u001b[0m \u001b[0;36m0\u001b[0m \u001b[0;32melse\u001b[0m \u001b[0;36m0\u001b[0m \u001b[0;32mfor\u001b[0m \u001b[0mi\u001b[0m \u001b[0;32min\u001b[0m \u001b[0mrange\u001b[0m\u001b[0;34m(\u001b[0m\u001b[0mself\u001b[0m\u001b[0;34m.\u001b[0m\u001b[0mdata_size\u001b[0m\u001b[0;34m)\u001b[0m\u001b[0;34m]\u001b[0m\u001b[0;34m\u001b[0m\u001b[0;34m\u001b[0m\u001b[0m\n\u001b[0m\u001b[1;32m     26\u001b[0m         \u001b[0mcorrects\u001b[0m \u001b[0;34m=\u001b[0m \u001b[0msum\u001b[0m\u001b[0;34m(\u001b[0m\u001b[0;34m[\u001b[0m\u001b[0;36m1\u001b[0m \u001b[0;32mif\u001b[0m \u001b[0my_evaluation\u001b[0m\u001b[0;34m[\u001b[0m\u001b[0mi\u001b[0m\u001b[0;34m]\u001b[0m \u001b[0;34m==\u001b[0m \u001b[0mself\u001b[0m\u001b[0;34m.\u001b[0m\u001b[0my\u001b[0m\u001b[0;34m[\u001b[0m\u001b[0mi\u001b[0m\u001b[0;34m]\u001b[0m \u001b[0;32mand\u001b[0m \u001b[0mself\u001b[0m\u001b[0;34m.\u001b[0m\u001b[0my\u001b[0m\u001b[0;34m[\u001b[0m\u001b[0mi\u001b[0m\u001b[0;34m]\u001b[0m \u001b[0;34m==\u001b[0m \u001b[0mgoal_class\u001b[0m \u001b[0;32melse\u001b[0m \u001b[0;36m0\u001b[0m \u001b[0;32mfor\u001b[0m \u001b[0mi\u001b[0m \u001b[0;32min\u001b[0m \u001b[0mrange\u001b[0m\u001b[0;34m(\u001b[0m\u001b[0mself\u001b[0m\u001b[0;34m.\u001b[0m\u001b[0mdata_size\u001b[0m\u001b[0;34m)\u001b[0m\u001b[0;34m]\u001b[0m\u001b[0;34m)\u001b[0m\u001b[0;34m\u001b[0m\u001b[0;34m\u001b[0m\u001b[0m\n\u001b[1;32m     27\u001b[0m         \u001b[0mtotal\u001b[0m \u001b[0;34m=\u001b[0m \u001b[0msum\u001b[0m\u001b[0;34m(\u001b[0m\u001b[0;34m[\u001b[0m\u001b[0;36m1\u001b[0m \u001b[0;32mif\u001b[0m \u001b[0mself\u001b[0m\u001b[0;34m.\u001b[0m\u001b[0my\u001b[0m\u001b[0;34m[\u001b[0m\u001b[0mi\u001b[0m\u001b[0;34m]\u001b[0m \u001b[0;34m==\u001b[0m \u001b[0mgoal_class\u001b[0m \u001b[0;32melse\u001b[0m \u001b[0;36m0\u001b[0m \u001b[0;32mfor\u001b[0m \u001b[0mi\u001b[0m \u001b[0;32min\u001b[0m \u001b[0mrange\u001b[0m\u001b[0;34m(\u001b[0m\u001b[0mself\u001b[0m\u001b[0;34m.\u001b[0m\u001b[0mdata_size\u001b[0m\u001b[0;34m)\u001b[0m\u001b[0;34m]\u001b[0m\u001b[0;34m)\u001b[0m\u001b[0;34m\u001b[0m\u001b[0;34m\u001b[0m\u001b[0m\n",
      "\u001b[0;32m<ipython-input-38-444d46f8409c>\u001b[0m in \u001b[0;36m<listcomp>\u001b[0;34m(.0)\u001b[0m\n\u001b[1;32m     23\u001b[0m \u001b[0;34m\u001b[0m\u001b[0m\n\u001b[1;32m     24\u001b[0m     \u001b[0;32mdef\u001b[0m \u001b[0mevaluate_tree_class_accuracy\u001b[0m\u001b[0;34m(\u001b[0m\u001b[0mself\u001b[0m\u001b[0;34m,\u001b[0m \u001b[0mnode\u001b[0m\u001b[0;34m,\u001b[0m \u001b[0mgoal_class\u001b[0m \u001b[0;34m=\u001b[0m \u001b[0;36m0\u001b[0m\u001b[0;34m)\u001b[0m\u001b[0;34m:\u001b[0m\u001b[0;34m\u001b[0m\u001b[0;34m\u001b[0m\u001b[0m\n\u001b[0;32m---> 25\u001b[0;31m         \u001b[0my_evaluation\u001b[0m \u001b[0;34m=\u001b[0m \u001b[0;34m[\u001b[0m\u001b[0;36m1\u001b[0m \u001b[0;32mif\u001b[0m \u001b[0mself\u001b[0m\u001b[0;34m.\u001b[0m\u001b[0mevaluate_tree_image\u001b[0m\u001b[0;34m(\u001b[0m\u001b[0mi\u001b[0m\u001b[0;34m,\u001b[0m \u001b[0mnode\u001b[0m\u001b[0;34m)\u001b[0m \u001b[0;34m<\u001b[0m \u001b[0;36m0\u001b[0m \u001b[0;32melse\u001b[0m \u001b[0;36m0\u001b[0m \u001b[0;32mfor\u001b[0m \u001b[0mi\u001b[0m \u001b[0;32min\u001b[0m \u001b[0mrange\u001b[0m\u001b[0;34m(\u001b[0m\u001b[0mself\u001b[0m\u001b[0;34m.\u001b[0m\u001b[0mdata_size\u001b[0m\u001b[0;34m)\u001b[0m\u001b[0;34m]\u001b[0m\u001b[0;34m\u001b[0m\u001b[0;34m\u001b[0m\u001b[0m\n\u001b[0m\u001b[1;32m     26\u001b[0m         \u001b[0mcorrects\u001b[0m \u001b[0;34m=\u001b[0m \u001b[0msum\u001b[0m\u001b[0;34m(\u001b[0m\u001b[0;34m[\u001b[0m\u001b[0;36m1\u001b[0m \u001b[0;32mif\u001b[0m \u001b[0my_evaluation\u001b[0m\u001b[0;34m[\u001b[0m\u001b[0mi\u001b[0m\u001b[0;34m]\u001b[0m \u001b[0;34m==\u001b[0m \u001b[0mself\u001b[0m\u001b[0;34m.\u001b[0m\u001b[0my\u001b[0m\u001b[0;34m[\u001b[0m\u001b[0mi\u001b[0m\u001b[0;34m]\u001b[0m \u001b[0;32mand\u001b[0m \u001b[0mself\u001b[0m\u001b[0;34m.\u001b[0m\u001b[0my\u001b[0m\u001b[0;34m[\u001b[0m\u001b[0mi\u001b[0m\u001b[0;34m]\u001b[0m \u001b[0;34m==\u001b[0m \u001b[0mgoal_class\u001b[0m \u001b[0;32melse\u001b[0m \u001b[0;36m0\u001b[0m \u001b[0;32mfor\u001b[0m \u001b[0mi\u001b[0m \u001b[0;32min\u001b[0m \u001b[0mrange\u001b[0m\u001b[0;34m(\u001b[0m\u001b[0mself\u001b[0m\u001b[0;34m.\u001b[0m\u001b[0mdata_size\u001b[0m\u001b[0;34m)\u001b[0m\u001b[0;34m]\u001b[0m\u001b[0;34m)\u001b[0m\u001b[0;34m\u001b[0m\u001b[0;34m\u001b[0m\u001b[0m\n\u001b[1;32m     27\u001b[0m         \u001b[0mtotal\u001b[0m \u001b[0;34m=\u001b[0m \u001b[0msum\u001b[0m\u001b[0;34m(\u001b[0m\u001b[0;34m[\u001b[0m\u001b[0;36m1\u001b[0m \u001b[0;32mif\u001b[0m \u001b[0mself\u001b[0m\u001b[0;34m.\u001b[0m\u001b[0my\u001b[0m\u001b[0;34m[\u001b[0m\u001b[0mi\u001b[0m\u001b[0;34m]\u001b[0m \u001b[0;34m==\u001b[0m \u001b[0mgoal_class\u001b[0m \u001b[0;32melse\u001b[0m \u001b[0;36m0\u001b[0m \u001b[0;32mfor\u001b[0m \u001b[0mi\u001b[0m \u001b[0;32min\u001b[0m \u001b[0mrange\u001b[0m\u001b[0;34m(\u001b[0m\u001b[0mself\u001b[0m\u001b[0;34m.\u001b[0m\u001b[0mdata_size\u001b[0m\u001b[0;34m)\u001b[0m\u001b[0;34m]\u001b[0m\u001b[0;34m)\u001b[0m\u001b[0;34m\u001b[0m\u001b[0;34m\u001b[0m\u001b[0m\n",
      "\u001b[0;32m<ipython-input-38-444d46f8409c>\u001b[0m in \u001b[0;36mevaluate_tree_image\u001b[0;34m(self, sample_index, node)\u001b[0m\n\u001b[1;32m     97\u001b[0m             return node.content(\n\u001b[1;32m     98\u001b[0m                 \u001b[0mself\u001b[0m\u001b[0;34m.\u001b[0m\u001b[0mevaluate_tree_image\u001b[0m\u001b[0;34m(\u001b[0m\u001b[0msample_index\u001b[0m\u001b[0;34m,\u001b[0m \u001b[0mnode\u001b[0m\u001b[0;34m.\u001b[0m\u001b[0mleft_child\u001b[0m\u001b[0;34m)\u001b[0m\u001b[0;34m,\u001b[0m\u001b[0;34m\u001b[0m\u001b[0;34m\u001b[0m\u001b[0m\n\u001b[0;32m---> 99\u001b[0;31m                 self.evaluate_tree_image(sample_index, node.right_child))\n\u001b[0m\u001b[1;32m    100\u001b[0m         \u001b[0;32melif\u001b[0m \u001b[0misinstance\u001b[0m\u001b[0;34m(\u001b[0m\u001b[0mnode\u001b[0m\u001b[0;34m.\u001b[0m\u001b[0mcontent\u001b[0m\u001b[0;34m,\u001b[0m \u001b[0mint\u001b[0m\u001b[0;34m)\u001b[0m\u001b[0;34m:\u001b[0m\u001b[0;34m\u001b[0m\u001b[0;34m\u001b[0m\u001b[0m\n\u001b[1;32m    101\u001b[0m             \u001b[0;32mreturn\u001b[0m \u001b[0mself\u001b[0m\u001b[0;34m.\u001b[0m\u001b[0mx\u001b[0m\u001b[0;34m[\u001b[0m\u001b[0msample_index\u001b[0m\u001b[0;34m]\u001b[0m\u001b[0;34m[\u001b[0m\u001b[0mnode\u001b[0m\u001b[0;34m.\u001b[0m\u001b[0mcontent\u001b[0m\u001b[0;34m]\u001b[0m\u001b[0;34m\u001b[0m\u001b[0;34m\u001b[0m\u001b[0m\n",
      "\u001b[0;32m<ipython-input-38-444d46f8409c>\u001b[0m in \u001b[0;36mevaluate_tree_image\u001b[0;34m(self, sample_index, node)\u001b[0m\n\u001b[1;32m     96\u001b[0m         \u001b[0;32mif\u001b[0m \u001b[0;32mnot\u001b[0m \u001b[0mnode\u001b[0m\u001b[0;34m.\u001b[0m\u001b[0mis_terminal\u001b[0m\u001b[0;34m(\u001b[0m\u001b[0;34m)\u001b[0m\u001b[0;34m:\u001b[0m\u001b[0;34m\u001b[0m\u001b[0;34m\u001b[0m\u001b[0m\n\u001b[1;32m     97\u001b[0m             return node.content(\n\u001b[0;32m---> 98\u001b[0;31m                 \u001b[0mself\u001b[0m\u001b[0;34m.\u001b[0m\u001b[0mevaluate_tree_image\u001b[0m\u001b[0;34m(\u001b[0m\u001b[0msample_index\u001b[0m\u001b[0;34m,\u001b[0m \u001b[0mnode\u001b[0m\u001b[0;34m.\u001b[0m\u001b[0mleft_child\u001b[0m\u001b[0;34m)\u001b[0m\u001b[0;34m,\u001b[0m\u001b[0;34m\u001b[0m\u001b[0;34m\u001b[0m\u001b[0m\n\u001b[0m\u001b[1;32m     99\u001b[0m                 self.evaluate_tree_image(sample_index, node.right_child))\n\u001b[1;32m    100\u001b[0m         \u001b[0;32melif\u001b[0m \u001b[0misinstance\u001b[0m\u001b[0;34m(\u001b[0m\u001b[0mnode\u001b[0m\u001b[0;34m.\u001b[0m\u001b[0mcontent\u001b[0m\u001b[0;34m,\u001b[0m \u001b[0mint\u001b[0m\u001b[0;34m)\u001b[0m\u001b[0;34m:\u001b[0m\u001b[0;34m\u001b[0m\u001b[0;34m\u001b[0m\u001b[0m\n",
      "\u001b[0;32m<ipython-input-38-444d46f8409c>\u001b[0m in \u001b[0;36mevaluate_tree_image\u001b[0;34m(self, sample_index, node)\u001b[0m\n\u001b[1;32m     97\u001b[0m             return node.content(\n\u001b[1;32m     98\u001b[0m                 \u001b[0mself\u001b[0m\u001b[0;34m.\u001b[0m\u001b[0mevaluate_tree_image\u001b[0m\u001b[0;34m(\u001b[0m\u001b[0msample_index\u001b[0m\u001b[0;34m,\u001b[0m \u001b[0mnode\u001b[0m\u001b[0;34m.\u001b[0m\u001b[0mleft_child\u001b[0m\u001b[0;34m)\u001b[0m\u001b[0;34m,\u001b[0m\u001b[0;34m\u001b[0m\u001b[0;34m\u001b[0m\u001b[0m\n\u001b[0;32m---> 99\u001b[0;31m                 self.evaluate_tree_image(sample_index, node.right_child))\n\u001b[0m\u001b[1;32m    100\u001b[0m         \u001b[0;32melif\u001b[0m \u001b[0misinstance\u001b[0m\u001b[0;34m(\u001b[0m\u001b[0mnode\u001b[0m\u001b[0;34m.\u001b[0m\u001b[0mcontent\u001b[0m\u001b[0;34m,\u001b[0m \u001b[0mint\u001b[0m\u001b[0;34m)\u001b[0m\u001b[0;34m:\u001b[0m\u001b[0;34m\u001b[0m\u001b[0;34m\u001b[0m\u001b[0m\n\u001b[1;32m    101\u001b[0m             \u001b[0;32mreturn\u001b[0m \u001b[0mself\u001b[0m\u001b[0;34m.\u001b[0m\u001b[0mx\u001b[0m\u001b[0;34m[\u001b[0m\u001b[0msample_index\u001b[0m\u001b[0;34m]\u001b[0m\u001b[0;34m[\u001b[0m\u001b[0mnode\u001b[0m\u001b[0;34m.\u001b[0m\u001b[0mcontent\u001b[0m\u001b[0;34m]\u001b[0m\u001b[0;34m\u001b[0m\u001b[0;34m\u001b[0m\u001b[0m\n",
      "\u001b[0;32m<ipython-input-38-444d46f8409c>\u001b[0m in \u001b[0;36mevaluate_tree_image\u001b[0;34m(self, sample_index, node)\u001b[0m\n\u001b[1;32m     98\u001b[0m                 \u001b[0mself\u001b[0m\u001b[0;34m.\u001b[0m\u001b[0mevaluate_tree_image\u001b[0m\u001b[0;34m(\u001b[0m\u001b[0msample_index\u001b[0m\u001b[0;34m,\u001b[0m \u001b[0mnode\u001b[0m\u001b[0;34m.\u001b[0m\u001b[0mleft_child\u001b[0m\u001b[0;34m)\u001b[0m\u001b[0;34m,\u001b[0m\u001b[0;34m\u001b[0m\u001b[0;34m\u001b[0m\u001b[0m\n\u001b[1;32m     99\u001b[0m                 self.evaluate_tree_image(sample_index, node.right_child))\n\u001b[0;32m--> 100\u001b[0;31m         \u001b[0;32melif\u001b[0m \u001b[0misinstance\u001b[0m\u001b[0;34m(\u001b[0m\u001b[0mnode\u001b[0m\u001b[0;34m.\u001b[0m\u001b[0mcontent\u001b[0m\u001b[0;34m,\u001b[0m \u001b[0mint\u001b[0m\u001b[0;34m)\u001b[0m\u001b[0;34m:\u001b[0m\u001b[0;34m\u001b[0m\u001b[0;34m\u001b[0m\u001b[0m\n\u001b[0m\u001b[1;32m    101\u001b[0m             \u001b[0;32mreturn\u001b[0m \u001b[0mself\u001b[0m\u001b[0;34m.\u001b[0m\u001b[0mx\u001b[0m\u001b[0;34m[\u001b[0m\u001b[0msample_index\u001b[0m\u001b[0;34m]\u001b[0m\u001b[0;34m[\u001b[0m\u001b[0mnode\u001b[0m\u001b[0;34m.\u001b[0m\u001b[0mcontent\u001b[0m\u001b[0;34m]\u001b[0m\u001b[0;34m\u001b[0m\u001b[0;34m\u001b[0m\u001b[0m\n\u001b[1;32m    102\u001b[0m         \u001b[0;32melse\u001b[0m\u001b[0;34m:\u001b[0m\u001b[0;34m\u001b[0m\u001b[0;34m\u001b[0m\u001b[0m\n",
      "\u001b[0;31mKeyboardInterrupt\u001b[0m: "
     ]
    }
   ],
   "source": [
    "#GP execution\n",
    "dc,cs = MOGP.fit(Model)"
   ]
  },
  {
   "cell_type": "code",
   "execution_count": null,
   "metadata": {},
   "outputs": [],
   "source": []
  },
  {
   "cell_type": "code",
   "execution_count": null,
   "metadata": {},
   "outputs": [],
   "source": []
  }
 ],
 "metadata": {
  "kernelspec": {
   "display_name": "Python 3",
   "language": "python",
   "name": "python3"
  },
  "language_info": {
   "codemirror_mode": {
    "name": "ipython",
    "version": 3
   },
   "file_extension": ".py",
   "mimetype": "text/x-python",
   "name": "python",
   "nbconvert_exporter": "python",
   "pygments_lexer": "ipython3",
   "version": "3.7.3"
  }
 },
 "nbformat": 4,
 "nbformat_minor": 2
}
